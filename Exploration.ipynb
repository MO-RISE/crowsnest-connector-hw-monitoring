{
 "cells": [
  {
   "attachments": {},
   "cell_type": "markdown",
   "metadata": {},
   "source": [
    "# Python HW monitoring\n",
    "\n",
    "Based on Tutorial [Hardware and System Information in Python](https://www.thepythoncode.com/article/get-hardware-system-information-python)"
   ]
  },
  {
   "cell_type": "code",
   "execution_count": 21,
   "metadata": {},
   "outputs": [],
   "source": [
    "import psutil\n",
    "import platform\n",
    "from datetime import datetime\n",
    "import GPUtil\n",
    "from tabulate import tabulate\n",
    "from hw import get_readable_size"
   ]
  },
  {
   "cell_type": "code",
   "execution_count": 22,
   "metadata": {},
   "outputs": [
    {
     "name": "stdout",
     "output_type": "stream",
     "text": [
      "======================================== System Information ========================================\n",
      "System: Windows\n",
      "Node Name: Beast\n",
      "Release: 10\n",
      "Version: 10.0.22621\n",
      "Machine: AMD64\n",
      "Processor: AMD64 Family 23 Model 113 Stepping 0, AuthenticAMD\n"
     ]
    }
   ],
   "source": [
    "print(\"=\"*40, \"System Information\", \"=\"*40)\n",
    "uname = platform.uname()\n",
    "print(f\"System: {uname.system}\")\n",
    "print(f\"Node Name: {uname.node}\")\n",
    "print(f\"Release: {uname.release}\")\n",
    "print(f\"Version: {uname.version}\")\n",
    "print(f\"Machine: {uname.machine}\")\n",
    "print(f\"Processor: {uname.processor}\")"
   ]
  },
  {
   "cell_type": "code",
   "execution_count": 23,
   "metadata": {},
   "outputs": [
    {
     "name": "stdout",
     "output_type": "stream",
     "text": [
      "======================================== Boot Time ========================================\n",
      "Boot Time: 2023-3-6 7:35:54\n"
     ]
    }
   ],
   "source": [
    "# Boot Time\n",
    "print(\"=\"*40, \"Boot Time\", \"=\"*40)\n",
    "boot_time_timestamp = psutil.boot_time()\n",
    "bt = datetime.fromtimestamp(boot_time_timestamp)\n",
    "print(f\"Boot Time: {bt.year}-{bt.month}-{bt.day} {bt.hour}:{bt.minute}:{bt.second}\")"
   ]
  },
  {
   "cell_type": "code",
   "execution_count": 24,
   "metadata": {},
   "outputs": [
    {
     "name": "stdout",
     "output_type": "stream",
     "text": [
      "======================================== CPU Info ========================================\n",
      "Physical cores: 12\n",
      "Total cores: 24\n",
      "Max Frequency: 4276.00Mhz\n",
      "Min Frequency: 0.00Mhz\n",
      "Current Frequency: 4276.00Mhz\n",
      "CPU Usage Per Core:\n",
      "Core 0: 14.1%\n",
      "Core 1: 23.4%\n",
      "Core 2: 34.3%\n",
      "Core 3: 12.5%\n",
      "Core 4: 3.1%\n",
      "Core 5: 4.7%\n",
      "Core 6: 7.9%\n",
      "Core 7: 3.1%\n",
      "Core 8: 3.1%\n",
      "Core 9: 14.1%\n",
      "Core 10: 4.6%\n",
      "Core 11: 0.0%\n",
      "Core 12: 0.0%\n",
      "Core 13: 0.0%\n",
      "Core 14: 0.0%\n",
      "Core 15: 1.6%\n",
      "Core 16: 0.0%\n",
      "Core 17: 0.0%\n",
      "Core 18: 0.0%\n",
      "Core 19: 3.1%\n",
      "Core 20: 0.0%\n",
      "Core 21: 4.7%\n",
      "Core 22: 1.6%\n",
      "Core 23: 1.6%\n",
      "Total CPU Usage: 5.2%\n"
     ]
    }
   ],
   "source": [
    "# let's print CPU information\n",
    "print(\"=\"*40, \"CPU Info\", \"=\"*40)\n",
    "# number of cores\n",
    "print(\"Physical cores:\", psutil.cpu_count(logical=False))\n",
    "print(\"Total cores:\", psutil.cpu_count(logical=True))\n",
    "# CPU frequencies\n",
    "cpufreq = psutil.cpu_freq()\n",
    "print(f\"Max Frequency: {cpufreq.max:.2f}Mhz\")\n",
    "print(f\"Min Frequency: {cpufreq.min:.2f}Mhz\")\n",
    "print(f\"Current Frequency: {cpufreq.current:.2f}Mhz\")\n",
    "# CPU usage\n",
    "print(\"CPU Usage Per Core:\")\n",
    "for i, percentage in enumerate(psutil.cpu_percent(percpu=True, interval=1)):\n",
    "    print(f\"Core {i}: {percentage}%\")\n",
    "print(f\"Total CPU Usage: {psutil.cpu_percent()}%\")"
   ]
  },
  {
   "cell_type": "code",
   "execution_count": 25,
   "metadata": {},
   "outputs": [
    {
     "name": "stdout",
     "output_type": "stream",
     "text": [
      "======================================== Memory Information ========================================\n",
      "Total: 63.92GB\n",
      "Available: 30.33GB\n",
      "Used: 33.59GB\n",
      "Percentage: 52.5%\n",
      "==================== SWAP ====================\n",
      "Total: 5.93GB\n",
      "Free: -18648764416.00B\n",
      "Used: 23.29GB\n",
      "Percentage: 393.1%\n"
     ]
    }
   ],
   "source": [
    "# Memory Information\n",
    "print(\"=\"*40, \"Memory Information\", \"=\"*40)\n",
    "# get the memory details\n",
    "svmem = psutil.virtual_memory()\n",
    "print(f\"Total: {get_readable_size(svmem.total)}\")\n",
    "print(f\"Available: {get_readable_size(svmem.available)}\")\n",
    "print(f\"Used: {get_readable_size(svmem.used)}\")\n",
    "print(f\"Percentage: {svmem.percent}%\")\n",
    "print(\"=\"*20, \"SWAP\", \"=\"*20)\n",
    "# get the swap memory details (if exists)\n",
    "swap = psutil.swap_memory()\n",
    "print(f\"Total: {get_readable_size(swap.total)}\")\n",
    "print(f\"Free: {get_readable_size(swap.free)}\")\n",
    "print(f\"Used: {get_readable_size(swap.used)}\")\n",
    "print(f\"Percentage: {swap.percent}%\")"
   ]
  },
  {
   "cell_type": "code",
   "execution_count": 26,
   "metadata": {},
   "outputs": [
    {
     "name": "stdout",
     "output_type": "stream",
     "text": [
      "======================================== Disk Information ========================================\n",
      "Partitions and Usage:\n",
      "=== Device: C:\\ ===\n",
      "  Mountpoint: C:\\\n",
      "  File system type: NTFS\n",
      "  Total Size: 930.73GB\n",
      "  Used: 763.48GB\n",
      "  Free: 167.25GB\n",
      "  Percentage: 82.0%\n",
      "=== Device: D:\\ ===\n",
      "  Mountpoint: D:\\\n",
      "  File system type: NTFS\n",
      "  Total Size: 3.64TB\n",
      "  Used: 1.17TB\n",
      "  Free: 2.47TB\n",
      "  Percentage: 32.2%\n",
      "=== Device: E:\\ ===\n",
      "  Mountpoint: E:\\\n",
      "  File system type: NTFS\n",
      "  Total Size: 446.58GB\n",
      "  Used: 110.11MB\n",
      "  Free: 446.47GB\n",
      "  Percentage: 0.0%\n",
      "=== Device: F:\\ ===\n",
      "  Mountpoint: F:\\\n",
      "  File system type: NTFS\n",
      "  Total Size: 17.44GB\n",
      "  Used: 52.92MB\n",
      "  Free: 17.39GB\n",
      "  Percentage: 0.3%\n",
      "=== Device: Q:\\ ===\n",
      "  Mountpoint: Q:\\\n",
      "  File system type: NTFS\n",
      "  Total Size: 931.50GB\n",
      "  Used: 246.10GB\n",
      "  Free: 685.40GB\n",
      "  Percentage: 26.4%\n",
      "=== Device: R:\\ ===\n",
      "  Mountpoint: R:\\\n",
      "  File system type: NTFS\n",
      "  Total Size: 3.64TB\n",
      "  Used: 15.48GB\n",
      "  Free: 3.62TB\n",
      "  Percentage: 0.4%\n",
      "Total read: 89.28GB\n",
      "Total write: 124.31GB\n"
     ]
    }
   ],
   "source": [
    "# Disk Information\n",
    "print(\"=\"*40, \"Disk Information\", \"=\"*40)\n",
    "print(\"Partitions and Usage:\")\n",
    "# get all disk partitions\n",
    "partitions = psutil.disk_partitions()\n",
    "\n",
    "# Docker containers shows up!!!!!\n",
    "for partition in partitions:\n",
    "    print(f\"=== Device: {partition.device} ===\")\n",
    "    print(f\"  Mountpoint: {partition.mountpoint}\")\n",
    "    print(f\"  File system type: {partition.fstype}\")\n",
    "    try:\n",
    "        partition_usage = psutil.disk_usage(partition.mountpoint)\n",
    "    except PermissionError:\n",
    "        # this can be catched due to the disk that\n",
    "        # isn't ready\n",
    "        continue\n",
    "    print(f\"  Total Size: {get_readable_size(partition_usage.total)}\")\n",
    "    print(f\"  Used: {get_readable_size(partition_usage.used)}\")\n",
    "    print(f\"  Free: {get_readable_size(partition_usage.free)}\")\n",
    "    print(f\"  Percentage: {partition_usage.percent}%\")\n",
    "\n",
    "    \n",
    "# get IO statistics since boot\n",
    "disk_io = psutil.disk_io_counters()\n",
    "print(f\"Total read: {get_readable_size(disk_io.read_bytes)}\")\n",
    "print(f\"Total write: {get_readable_size(disk_io.write_bytes)}\")"
   ]
  },
  {
   "cell_type": "code",
   "execution_count": 27,
   "metadata": {},
   "outputs": [
    {
     "name": "stdout",
     "output_type": "stream",
     "text": [
      "======================================== Network Information ========================================\n",
      "=== Interface: Local Area Connection ===\n",
      "=== Interface: Local Area Connection ===\n",
      "=== Interface: Local Area Connection ===\n",
      "=== Interface: Ethernet ===\n",
      "=== Interface: Ethernet ===\n",
      "=== Interface: Ethernet ===\n",
      "=== Interface: Local Area Connection* 1 ===\n",
      "=== Interface: Local Area Connection* 1 ===\n",
      "=== Interface: Local Area Connection* 1 ===\n",
      "=== Interface: Local Area Connection* 10 ===\n",
      "=== Interface: Local Area Connection* 10 ===\n",
      "=== Interface: Local Area Connection* 10 ===\n",
      "=== Interface: WiFi ===\n",
      "=== Interface: WiFi ===\n",
      "=== Interface: WiFi ===\n",
      "=== Interface: Bluetooth Network Connection 2 ===\n",
      "=== Interface: Bluetooth Network Connection 2 ===\n",
      "=== Interface: Bluetooth Network Connection 2 ===\n",
      "=== Interface: vEthernet (WSL) ===\n",
      "=== Interface: vEthernet (WSL) ===\n",
      "=== Interface: vEthernet (WSL) ===\n",
      "=== Interface: Loopback Pseudo-Interface 1 ===\n",
      "=== Interface: Loopback Pseudo-Interface 1 ===\n",
      "Total Bytes Sent: 948.22MB\n",
      "Total Bytes Received: 39.82GB\n"
     ]
    }
   ],
   "source": [
    "# Network information\n",
    "print(\"=\"*40, \"Network Information\", \"=\"*40)\n",
    "# get all network interfaces (virtual and physical)\n",
    "if_addrs = psutil.net_if_addrs()\n",
    "for interface_name, interface_addresses in if_addrs.items():\n",
    "    for address in interface_addresses:\n",
    "        print(f\"=== Interface: {interface_name} ===\")\n",
    "        if str(address.family) == 'AddressFamily.AF_INET':\n",
    "            print(f\"  IP Address: {address.address}\")\n",
    "            print(f\"  Netmask: {address.netmask}\")\n",
    "            print(f\"  Broadcast IP: {address.broadcast}\")\n",
    "        elif str(address.family) == 'AddressFamily.AF_PACKET':\n",
    "            print(f\"  MAC Address: {address.address}\")\n",
    "            print(f\"  Netmask: {address.netmask}\")\n",
    "            print(f\"  Broadcast MAC: {address.broadcast}\")\n",
    "# get IO statistics since boot\n",
    "net_io = psutil.net_io_counters()\n",
    "print(f\"Total Bytes Sent: {get_readable_size(net_io.bytes_sent)}\")\n",
    "print(f\"Total Bytes Received: {get_readable_size(net_io.bytes_recv)}\")"
   ]
  },
  {
   "attachments": {},
   "cell_type": "markdown",
   "metadata": {},
   "source": [
    "## GPU info \n",
    "\n",
    "GPUtil is a Python module for getting the GPU status for NVIDIA GPUs only."
   ]
  },
  {
   "cell_type": "code",
   "execution_count": 28,
   "metadata": {},
   "outputs": [
    {
     "name": "stdout",
     "output_type": "stream",
     "text": [
      "======================================== GPU Details ========================================\n",
      "  id  name                           load    free memory    used memory    total memory    temperature    uuid\n",
      "----  -----------------------------  ------  -------------  -------------  --------------  -------------  ----------------------------------------\n",
      "   0  NVIDIA GeForce RTX 2060 SUPER  1.0%    4129.0MB       3889.0MB       8192.0MB        45.0 °C        GPU-2f3a2dd6-4339-dd16-bfe2-4b897b197f1d\n"
     ]
    }
   ],
   "source": [
    "# GPU information\n",
    "import GPUtil\n",
    "from tabulate import tabulate\n",
    "print(\"=\"*40, \"GPU Details\", \"=\"*40)\n",
    "gpus = GPUtil.getGPUs()\n",
    "list_gpus = []\n",
    "for gpu in gpus:\n",
    "    # get the GPU id\n",
    "    gpu_id = gpu.id\n",
    "    # name of GPU\n",
    "    gpu_name = gpu.name\n",
    "    # get % percentage of GPU usage of that GPU\n",
    "    gpu_load = f\"{gpu.load*100}%\"\n",
    "    # get free memory in MB format\n",
    "    gpu_free_memory = f\"{gpu.memoryFree}MB\"\n",
    "    # get used memory\n",
    "    gpu_used_memory = f\"{gpu.memoryUsed}MB\"\n",
    "    # get total memory\n",
    "    gpu_total_memory = f\"{gpu.memoryTotal}MB\"\n",
    "    # get GPU temperature in Celsius\n",
    "    gpu_temperature = f\"{gpu.temperature} °C\"\n",
    "    gpu_uuid = gpu.uuid\n",
    "    list_gpus.append((\n",
    "        gpu_id, gpu_name, gpu_load, gpu_free_memory, gpu_used_memory,\n",
    "        gpu_total_memory, gpu_temperature, gpu_uuid\n",
    "    ))\n",
    "\n",
    "print(tabulate(list_gpus, headers=(\"id\", \"name\", \"load\", \"free memory\", \"used memory\", \"total memory\",\n",
    "                                   \"temperature\", \"uuid\")))"
   ]
  },
  {
   "cell_type": "code",
   "execution_count": 29,
   "metadata": {},
   "outputs": [
    {
     "ename": "AttributeError",
     "evalue": "module 'psutil' has no attribute 'sensors_temperatures'",
     "output_type": "error",
     "traceback": [
      "\u001b[1;31m---------------------------------------------------------------------------\u001b[0m",
      "\u001b[1;31mAttributeError\u001b[0m                            Traceback (most recent call last)",
      "Cell \u001b[1;32mIn[29], line 1\u001b[0m\n\u001b[1;32m----> 1\u001b[0m \u001b[39mfor\u001b[39;00m i \u001b[39min\u001b[39;00m \u001b[39mrange\u001b[39m(\u001b[39mlen\u001b[39m(psutil\u001b[39m.\u001b[39;49msensors_temperatures(fahrenheit\u001b[39m=\u001b[39m\u001b[39mFalse\u001b[39;00m)[ \u001b[39m'\u001b[39m\u001b[39mcoretemp\u001b[39m\u001b[39m'\u001b[39m])):\n\u001b[0;32m      2\u001b[0m     \u001b[39mprint\u001b[39m(\u001b[39mstr\u001b[39m(psutil\u001b[39m.\u001b[39msensors_temperatures(fahrenheit\u001b[39m=\u001b[39m\u001b[39mFalse\u001b[39;00m)[ \u001b[39m'\u001b[39m\u001b[39mcoretemp\u001b[39m\u001b[39m'\u001b[39m][i]\u001b[39m.\u001b[39mlabel) \u001b[39m+\u001b[39m \u001b[39m\"\u001b[39m\u001b[39m has a temp of \u001b[39m\u001b[39m\"\u001b[39m \u001b[39m+\u001b[39m \u001b[39mstr\u001b[39m(psutil\u001b[39m.\u001b[39msensors_temperatures(fahrenheit\u001b[39m=\u001b[39m\u001b[39mFalse\u001b[39;00m)[ \u001b[39m'\u001b[39m\u001b[39mcoretemp\u001b[39m\u001b[39m'\u001b[39m][i]\u001b[39m.\u001b[39mcurrent) \u001b[39m+\u001b[39m \u001b[39m\"\u001b[39m\u001b[39m°C\u001b[39m\u001b[39m\"\u001b[39m)\n",
      "\u001b[1;31mAttributeError\u001b[0m: module 'psutil' has no attribute 'sensors_temperatures'"
     ]
    }
   ],
   "source": [
    "for i in range(len(psutil.sensors_temperatures(fahrenheit=False)[ 'coretemp'])):\n",
    "    print(str(psutil.sensors_temperatures(fahrenheit=False)[ 'coretemp'][i].label) + \" has a temp of \" + str(psutil.sensors_temperatures(fahrenheit=False)[ 'coretemp'][i].current) + \"°C\")\n",
    " "
   ]
  },
  {
   "cell_type": "code",
   "execution_count": 30,
   "metadata": {},
   "outputs": [
    {
     "ename": "AttributeError",
     "evalue": "module 'psutil' has no attribute 'sensors_temperatures'",
     "output_type": "error",
     "traceback": [
      "\u001b[1;31m---------------------------------------------------------------------------\u001b[0m",
      "\u001b[1;31mAttributeError\u001b[0m                            Traceback (most recent call last)",
      "Cell \u001b[1;32mIn[30], line 1\u001b[0m\n\u001b[1;32m----> 1\u001b[0m \u001b[39mprint\u001b[39m(\u001b[39m\"\u001b[39m\u001b[39mAll temps\u001b[39m\u001b[39m\"\u001b[39m,psutil\u001b[39m.\u001b[39;49msensors_temperatures())\n\u001b[0;32m      2\u001b[0m \u001b[39mprint\u001b[39m(\u001b[39m\"\u001b[39m\u001b[39mFans\u001b[39m\u001b[39m\"\u001b[39m,psutil\u001b[39m.\u001b[39msensors_fans())\n\u001b[0;32m      3\u001b[0m \u001b[39mprint\u001b[39m(\u001b[39m\"\u001b[39m\u001b[39mBattery\u001b[39m\u001b[39m\"\u001b[39m,psutil\u001b[39m.\u001b[39msensors_battery())\n",
      "\u001b[1;31mAttributeError\u001b[0m: module 'psutil' has no attribute 'sensors_temperatures'"
     ]
    }
   ],
   "source": [
    "print(\"All temps\",psutil.sensors_temperatures())\n",
    "print(\"Fans\",psutil.sensors_fans())\n",
    "print(\"Battery\",psutil.sensors_battery())\n",
    "psutil.disk_usage(\"/home/\")\n",
    "\n"
   ]
  },
  {
   "cell_type": "code",
   "execution_count": 31,
   "metadata": {},
   "outputs": [
    {
     "data": {
      "text/plain": [
       "(0.0, 0.0, 0.0)"
      ]
     },
     "execution_count": 31,
     "metadata": {},
     "output_type": "execute_result"
    }
   ],
   "source": [
    "psutil.getloadavg()"
   ]
  },
  {
   "attachments": {},
   "cell_type": "markdown",
   "metadata": {},
   "source": [
    "## BEST OF"
   ]
  },
  {
   "cell_type": "code",
   "execution_count": 20,
   "metadata": {},
   "outputs": [
    {
     "name": "stdout",
     "output_type": "stream",
     "text": [
      "======================================== Boot Time ========================================\n",
      "Boot Time: 2023-03-6 7:35:54\n",
      "======================================== CPU Info ========================================\n",
      "CPU Usage: 4.9%\n"
     ]
    },
    {
     "ename": "AttributeError",
     "evalue": "module 'psutil' has no attribute 'sensors_temperatures'",
     "output_type": "error",
     "traceback": [
      "\u001b[1;31m---------------------------------------------------------------------------\u001b[0m",
      "\u001b[1;31mAttributeError\u001b[0m                            Traceback (most recent call last)",
      "Cell \u001b[1;32mIn[20], line 11\u001b[0m\n\u001b[0;32m      9\u001b[0m \u001b[39mprint\u001b[39m(\u001b[39mf\u001b[39m\u001b[39m\"\u001b[39m\u001b[39mCPU Usage: \u001b[39m\u001b[39m{\u001b[39;00mpsutil\u001b[39m.\u001b[39mcpu_percent()\u001b[39m}\u001b[39;00m\u001b[39m%\u001b[39m\u001b[39m\"\u001b[39m)\n\u001b[0;32m     10\u001b[0m cpu_core_temps \u001b[39m=\u001b[39m []\n\u001b[1;32m---> 11\u001b[0m \u001b[39mfor\u001b[39;00m i \u001b[39min\u001b[39;00m \u001b[39mrange\u001b[39m(\u001b[39mlen\u001b[39m(psutil\u001b[39m.\u001b[39;49msensors_temperatures()[ \u001b[39m'\u001b[39m\u001b[39mcoretemp\u001b[39m\u001b[39m'\u001b[39m])):\n\u001b[0;32m     12\u001b[0m     cpu_core_temps\u001b[39m.\u001b[39mappend(psutil\u001b[39m.\u001b[39msensors_temperatures()[ \u001b[39m'\u001b[39m\u001b[39mcoretemp\u001b[39m\u001b[39m'\u001b[39m][i]\u001b[39m.\u001b[39mcurrent)\n\u001b[0;32m     13\u001b[0m \u001b[39mprint\u001b[39m(\u001b[39m\"\u001b[39m\u001b[39mCPU temp mean:\u001b[39m\u001b[39m\"\u001b[39m, (\u001b[39msum\u001b[39m(cpu_core_temps) \u001b[39m/\u001b[39m \u001b[39mlen\u001b[39m(cpu_core_temps)), \u001b[39m\"\u001b[39m\u001b[39m°C\u001b[39m\u001b[39m\"\u001b[39m)\n",
      "\u001b[1;31mAttributeError\u001b[0m: module 'psutil' has no attribute 'sensors_temperatures'"
     ]
    }
   ],
   "source": [
    "# Boot Time\n",
    "print(\"=\"*40, \"Boot Time\", \"=\"*40)\n",
    "boot_time_timestamp = psutil.boot_time()\n",
    "bt = datetime.fromtimestamp(boot_time_timestamp)\n",
    "print(f\"Boot Time: {bt.year}-{'{:02d}'.format(bt.month)}-{bt.day} {bt.hour}:{bt.minute}:{bt.second}\")\n",
    "\n",
    "# CPU \n",
    "print(\"=\"*40, \"CPU Info\", \"=\"*40)\n",
    "print(f\"CPU Usage: {psutil.cpu_percent()}%\")\n",
    "cpu_core_temps = []\n",
    "for i in range(len(psutil.sensors_temperatures()[ 'coretemp'])):\n",
    "    cpu_core_temps.append(psutil.sensors_temperatures()[ 'coretemp'][i].current)\n",
    "print(\"CPU temp mean:\", (sum(cpu_core_temps) / len(cpu_core_temps)), \"°C\")\n",
    "\n",
    "# RAM \n",
    "print(\"=\"*40, \"RAM / Memory Info\", \"=\"*40)\n",
    "print(f\"RAM use: {svmem.percent}%\")\n",
    "\n",
    "# GPU\n",
    "print(\"=\"*40, \"GPU Details\", \"=\"*40)\n",
    "gpus = GPUtil.getGPUs()\n",
    "\n",
    "if len(gpus) < 1:\n",
    "    print(\"No GPU found\")\n",
    "else:\n",
    "    for gpu in gpus:\n",
    "        # get % percentage of GPU usage of that GPU\n",
    "        gpu_load = f\"{gpu.load*100}%\"\n",
    "        # get GPU temperature in Celsius\n",
    "        gpu_temperature = f\"{gpu.temperature} °C\"\n",
    "        print(\"ID:\", gpu.id)\n",
    "        print(\"Name:\", gpu.name)\n",
    "        print(\"Load:\", gpu_load)\n",
    "        print(\"Temp:\", gpu_temperature)\n",
    "\n",
    "# Disk Information\n",
    "print(\"=\"*40, \"Disk Information\", \"=\"*40)\n",
    "psutil.disk_usage(\"/\")\n",
    "print(\"Partitions:\")\n",
    "# get all disk partitions\n",
    "partitions = psutil.disk_partitions()\n",
    "\n",
    "for partition in partitions[:1]:\n",
    "    print(f\"=== Device: {partition.device} ===\")\n",
    "    print(f\"  Mountpoint: {partition.mountpoint}\")\n",
    "    try:\n",
    "        partition_usage = psutil.disk_usage(partition.mountpoint)\n",
    "    except PermissionError:\n",
    "        # this can be catched due to the disk that\n",
    "        # isn't ready\n",
    "        continue\n",
    "    print(f\"  Total Size: {get_readable_size(partition_usage.total)}\")\n",
    "    print(f\"  Used: {get_readable_size(partition_usage.used)}\")\n",
    "    print(f\"  Free: {get_readable_size(partition_usage.free)}\")\n",
    "\n",
    "\n"
   ]
  },
  {
   "cell_type": "code",
   "execution_count": null,
   "metadata": {},
   "outputs": [],
   "source": []
  }
 ],
 "metadata": {
  "kernelspec": {
   "display_name": "env",
   "language": "python",
   "name": "python3"
  },
  "language_info": {
   "codemirror_mode": {
    "name": "ipython",
    "version": 3
   },
   "file_extension": ".py",
   "mimetype": "text/x-python",
   "name": "python",
   "nbconvert_exporter": "python",
   "pygments_lexer": "ipython3",
   "version": "3.11.2"
  },
  "orig_nbformat": 4
 },
 "nbformat": 4,
 "nbformat_minor": 2
}
